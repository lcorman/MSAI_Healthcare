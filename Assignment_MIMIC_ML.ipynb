{
 "cells": [
  {
   "cell_type": "markdown",
   "id": "ba240c80-dc0f-4d99-a707-b3db93b0450e",
   "metadata": {},
   "source": [
    "Predicting patient mortality within 365 days of discharge"
   ]
  },
  {
   "cell_type": "code",
   "execution_count": null,
   "id": "26a9a348-d286-4a82-85de-d72a5c03b34f",
   "metadata": {},
   "outputs": [],
   "source": [
    "import numpy as np\n",
    "import pandas as pd\n",
    "from sklearn.linear_model import LogisticRegression\n",
    "from sklearn.ensemble import RandomForestClassifier\n",
    "from sklearn.metrics import roc_curve, roc_auc_score\n",
    "import matplotlib.pyplot as plt\n",
    "from datetime import datetime\n",
    "import shap\n",
    "import tqdm"
   ]
  },
  {
   "cell_type": "markdown",
   "id": "f35a261b-2ef1-4f7f-a3e3-bbbce40d20c3",
   "metadata": {},
   "source": [
    "# Load and clean data"
   ]
  },
  {
   "cell_type": "code",
   "execution_count": null,
   "id": "c6978b72-fae0-4c2a-ad96-a2d43be615e1",
   "metadata": {},
   "outputs": [],
   "source": [
    "# Load data\n",
    "patients = pd.read_csv(\"PATIENTS.csv.gz\")\n",
    "admissions = pd.read_csv(\"ADMISSIONS.csv.gz\")"
   ]
  },
  {
   "cell_type": "code",
   "execution_count": null,
   "id": "249f5a1b-f5b7-4652-94f7-a8e2b5ecaffc",
   "metadata": {},
   "outputs": [],
   "source": [
    "# Remove patients that died in the hospital and newborns\n",
    "admissions = admissions.query(\"HOSPITAL_EXPIRE_FLAG != 1\")\n",
    "admissions = admissions.query(\"ADMISSION_TYPE != 'NEWBORN'\")\n",
    "patients = patients[patients[\"SUBJECT_ID\"].isin(admissions[\"SUBJECT_ID\"])]"
   ]
  },
  {
   "cell_type": "code",
   "execution_count": null,
   "id": "9d6e3f42-f920-4a80-9798-31552876f0a9",
   "metadata": {},
   "outputs": [],
   "source": [
    "# Get latest for patients with multiple admissions\n",
    "admissions = admissions.sort_values([\"SUBJECT_ID\", \"DISCHTIME\"], ascending=False).drop_duplicates([\"SUBJECT_ID\"], keep=\"first\")"
   ]
  },
  {
   "cell_type": "code",
   "execution_count": null,
   "id": "1bc28dac-1693-4703-9e60-4f3031e54074",
   "metadata": {},
   "outputs": [],
   "source": [
    "# Merge patients and admissions\n",
    "merge_df = patients.drop(columns=\"ROW_ID\").merge(admissions.drop(columns=\"ROW_ID\"), on=\"SUBJECT_ID\", how=\"inner\")"
   ]
  },
  {
   "cell_type": "code",
   "execution_count": null,
   "id": "4422b820-e4fe-4b22-a084-9bb6c983ea83",
   "metadata": {},
   "outputs": [],
   "source": [
    "# Get target variable: whether patient died within __ days after discharge\n",
    "N_DAYS = 365\n",
    "\n",
    "def get_target(disch, dod):\n",
    "    # If patient hasn't died, then target is 0\n",
    "    if type(dod) != str:\n",
    "        return 0\n",
    "    # Otherwise, check how long after discharge they died\n",
    "    else:\n",
    "        disch_date = datetime.strptime(disch, \"%Y-%m-%d %H:%M:%S\")\n",
    "        dod_date = datetime.strptime(dod, \"%Y-%m-%d %H:%M:%S\")\n",
    "        if (dod_date - disch_date).days <= N_DAYS:\n",
    "            return 1\n",
    "        else:\n",
    "            return 0\n",
    "\n",
    "merge_df.loc[:, \"target\"] = merge_df.apply(lambda row: get_target(row[\"DISCHTIME\"], row[\"DOD\"]), axis=1)"
   ]
  },
  {
   "cell_type": "code",
   "execution_count": null,
   "id": "cc04ba37-6982-45ae-aa67-67b7b30e202d",
   "metadata": {},
   "outputs": [],
   "source": [
    "merge_df[\"target\"].sum()"
   ]
  },
  {
   "cell_type": "code",
   "execution_count": null,
   "id": "c54587f3-36f2-4eae-b26e-b0ae51fc0df5",
   "metadata": {},
   "outputs": [],
   "source": [
    "# Add age at discharge time\n",
    "def get_age(dob, disch):\n",
    "    dob_date = datetime.strptime(dob, \"%Y-%m-%d %H:%M:%S\")\n",
    "    disch_date = datetime.strptime(disch, \"%Y-%m-%d %H:%M:%S\")\n",
    "    age = (disch_date - dob_date).days // 365\n",
    "    return age\n",
    "\n",
    "merge_df.loc[:, \"age\"] = merge_df.apply(lambda row: get_age(row[\"DOB\"], row[\"DISCHTIME\"]), axis=1)"
   ]
  },
  {
   "cell_type": "code",
   "execution_count": null,
   "id": "9bd0fd9a-65bd-49e5-850e-9ef296c16f6b",
   "metadata": {},
   "outputs": [],
   "source": [
    "# Drop invalid ages and filter to adults only\n",
    "merge_df = merge_df.query(\"age < 200\")\n",
    "merge_df = merge_df.query(\"age >= 18\")"
   ]
  },
  {
   "cell_type": "code",
   "execution_count": null,
   "id": "49663d14-eedb-4a47-a015-7948c325aa48",
   "metadata": {},
   "outputs": [],
   "source": [
    "# Apply a little bit of feature engineering\n",
    "merge_df.loc[:, \"LANGUAGE\"] = np.where(merge_df[\"LANGUAGE\"] == \"ENGL\", \"ENGLISH\", \"NOT ENGLISH\")\n",
    "merge_df.loc[:, \"ETHNICITY\"] = merge_df[\"ETHNICITY\"].str.split(' - ').str[0]"
   ]
  },
  {
   "cell_type": "code",
   "execution_count": null,
   "id": "d4c049ef-59ef-43bb-ad73-11d23a226abb",
   "metadata": {},
   "outputs": [],
   "source": [
    "# Convert age to between 0 and 1, since all of the other data is binary\n",
    "merge_df[\"age\"] = merge_df[\"age\"] / merge_df[\"age\"].max()"
   ]
  },
  {
   "cell_type": "code",
   "execution_count": null,
   "id": "b5319775-4f5c-4fb2-83f9-09052f2f7076",
   "metadata": {},
   "outputs": [],
   "source": [
    "# Select feature set\n",
    "FEATURES = [\n",
    "    \"DISCHARGE_LOCATION\", \"ADMISSION_TYPE\", \"ADMISSION_LOCATION\", \"INSURANCE\", \"LANGUAGE\", \"RELIGION\", \"MARITAL_STATUS\", \"ETHNICITY\", \"age\"\n",
    "]"
   ]
  },
  {
   "cell_type": "code",
   "execution_count": null,
   "id": "19bf8b4e-093f-4e7d-9d6a-c1788aa2be69",
   "metadata": {},
   "outputs": [],
   "source": [
    "# To reduce the impact of rare categories, group rare categories as \"Other\"\n",
    "MIN_PATIENTS = 20\n",
    "for feat in FEATURES:\n",
    "    if feat != \"age\":\n",
    "        # Convert to lowercase\n",
    "        merge_df[feat] = merge_df[feat].str.lower()\n",
    "        \n",
    "        # Get counts by current category label\n",
    "        category_counts = merge_df[feat].value_counts()\n",
    "        \n",
    "        # Identify categories that appear at least MIN_PATIENTS times\n",
    "        categories_to_keep = category_counts[category_counts >= MIN_PATIENTS].index\n",
    "        \n",
    "        # Step 3: Replace categories that appear 10 times or fewer with \"Other\"\n",
    "        merge_df[feat] = merge_df[feat].apply(lambda x: x if x in categories_to_keep else 'other')"
   ]
  },
  {
   "cell_type": "markdown",
   "id": "e617efdf-8849-4a43-9dfd-b1562dac4aac",
   "metadata": {},
   "source": [
    "# Add procedures"
   ]
  },
  {
   "cell_type": "code",
   "execution_count": null,
   "id": "673a6470-82cf-431f-83a7-6ab4a043a956",
   "metadata": {},
   "outputs": [],
   "source": [
    "procedures = pd.read_csv(\"PROCEDURES_ICD.csv.gz\")"
   ]
  },
  {
   "cell_type": "code",
   "execution_count": null,
   "id": "ea4812ca-b082-4d3f-8de7-edc57f307e79",
   "metadata": {},
   "outputs": [],
   "source": [
    "# Filter by admission (should give one admission per patient)\n",
    "procedures = procedures[procedures[\"HADM_ID\"].isin(admissions[\"HADM_ID\"])]"
   ]
  },
  {
   "cell_type": "code",
   "execution_count": null,
   "id": "025863c4-5e9d-4dbd-9a92-a448fb3f4cf8",
   "metadata": {},
   "outputs": [],
   "source": [
    "# Define mapping of procedure codes to higher level categories\n",
    "# (based on https://www.findacode.com/code-set.php?set=ICD9V3)\n",
    "proc_descriptions = [\n",
    "    \"OTHER\",\n",
    "    \"NERVOUS\",\n",
    "    \"ENDOCRINE\",\n",
    "    \"EYE\",\n",
    "    \"OTHER_DIAGNOSTIC_THERAPEUTIC\",\n",
    "    \"EAR\",\n",
    "    \"NOSE_MOUTH_PHARYNX\",\n",
    "    \"RESPIRATORY\",\n",
    "    \"CARDIOVASCULAR\",\n",
    "    \"HEMIC_LYMPHATIC\",\n",
    "    \"DIGESTIVE\",\n",
    "    \"URINARY\",\n",
    "    \"MALE_GENITAL\",\n",
    "    \"FEMALE_GENITAL\",\n",
    "    \"OBSTETRICAL\",\n",
    "    \"MUSCULOSKELETAL\",\n",
    "    \"INTEGUMENTARY\",\n",
    "    \"DIAGNOSTIC_THERAPEUTIC\"\n",
    "]\n",
    "\n",
    "proc_ranges = [\n",
    "    (\"00\", \"00\"),\n",
    "    (\"01\", \"05\"),\n",
    "    (\"06\", \"07\"),\n",
    "    (\"08\", \"16\"),\n",
    "    (\"17\", \"17\"),\n",
    "    (\"18\", \"20\"),\n",
    "    (\"21\", \"29\"),\n",
    "    (\"30\", \"34\"),\n",
    "    (\"35\", \"39\"),\n",
    "    (\"40\", \"41\"),\n",
    "    (\"42\", \"54\"),\n",
    "    (\"55\", \"59\"),\n",
    "    (\"60\", \"64\"),\n",
    "    (\"65\", \"71\"),\n",
    "    (\"72\", \"75\"),\n",
    "    (\"76\", \"84\"),\n",
    "    (\"85\", \"86\"),\n",
    "    (\"87\", \"99\")\n",
    "]\n",
    "\n",
    "proc_map = {}\n",
    "for i in range(0, len(proc_descriptions)):\n",
    "    start = proc_ranges[i][0]\n",
    "    end = proc_ranges[i][1]\n",
    "    for j in range(int(start), int(end) + 1):\n",
    "        proc_map[f\"{j:02}\"] = proc_descriptions[i].lower()"
   ]
  },
  {
   "cell_type": "code",
   "execution_count": null,
   "id": "d72453fe-440c-42ec-bc0c-606cb05cfb68",
   "metadata": {},
   "outputs": [],
   "source": [
    "# Define function to carry out mapping of procedures to higher level categories\n",
    "def get_proc_category(code):\n",
    "    # Get first two digits\n",
    "    cat_num = str(code)[0:2]\n",
    "\n",
    "    # Look up in mapping\n",
    "    cat = proc_map[cat_num]\n",
    "    return cat"
   ]
  },
  {
   "cell_type": "code",
   "execution_count": null,
   "id": "8c462a26-3cf6-4d50-985f-29944353d810",
   "metadata": {},
   "outputs": [],
   "source": [
    "# Add procedure category to dataframe\n",
    "procedures[\"procedure_type\"] = procedures.apply(lambda row: get_proc_category(row[\"ICD9_CODE\"]), axis=1)"
   ]
  },
  {
   "cell_type": "code",
   "execution_count": null,
   "id": "bc209ead-2be4-4a6a-81c0-7e0f2dafbb9c",
   "metadata": {},
   "outputs": [],
   "source": [
    "# Convert to binary, with procedure categories as columns\n",
    "procedures_agg = pd.get_dummies(procedures[[\"SUBJECT_ID\", \"procedure_type\"]].drop_duplicates(), [\"procedure_type\"], dtype=int)\n",
    "procedures_agg = procedures_agg.groupby(\"SUBJECT_ID\").max().reset_index()"
   ]
  },
  {
   "cell_type": "code",
   "execution_count": null,
   "id": "d9af3017-e13d-4f64-b43d-b929f90f31f9",
   "metadata": {},
   "outputs": [],
   "source": [
    "# Join with rest of data\n",
    "merge_df = merge_df.merge(procedures_agg, on=\"SUBJECT_ID\", how=\"left\")"
   ]
  },
  {
   "cell_type": "code",
   "execution_count": null,
   "id": "93523e13-8094-4be7-a1c1-936da1f4a83a",
   "metadata": {},
   "outputs": [],
   "source": [
    "# Fill with 0s for patients with no procedures\n",
    "procedure_cols = [x for x in procedures_agg.columns if x != \"SUBJECT_ID\"]\n",
    "merge_df.loc[:, procedure_cols] = merge_df.loc[:, procedure_cols].fillna(0)"
   ]
  },
  {
   "cell_type": "markdown",
   "id": "f5826202-e459-47ea-8eba-6acc1611be82",
   "metadata": {},
   "source": [
    "# Train and evaluate model: logistic regression"
   ]
  },
  {
   "cell_type": "code",
   "execution_count": null,
   "id": "93e9dab7-3daf-4db6-83f7-1666123d61a1",
   "metadata": {},
   "outputs": [],
   "source": [
    "# One-hot encode the feature set\n",
    "X = pd.get_dummies(merge_df[FEATURES + procedure_cols], columns=FEATURES[:-1], prefix=FEATURES[:-1], dummy_na=True, dtype=int)"
   ]
  },
  {
   "cell_type": "code",
   "execution_count": null,
   "id": "09bf0e3e-1ad7-428b-9448-f7f49649e1a8",
   "metadata": {},
   "outputs": [],
   "source": [
    "# Get the target\n",
    "y = merge_df[\"target\"]"
   ]
  },
  {
   "cell_type": "code",
   "execution_count": null,
   "id": "aa184ff3-09f6-49e0-95b6-d5ebf6f11645",
   "metadata": {},
   "outputs": [],
   "source": [
    "# Split into train and test sets (50/50)\n",
    "np.random.seed(777)\n",
    "train_perc = 0.5\n",
    "train_size = round(train_perc * X.shape[0])\n",
    "train_idx = np.random.choice(X.index, train_size, replace=False)\n",
    "train_mask = np.where(X.index.isin(train_idx), True, False)\n",
    "\n",
    "X_train = X[train_mask]\n",
    "X_test = X[~train_mask]\n",
    "y_train = y[train_mask]\n",
    "y_test = y[~train_mask]"
   ]
  },
  {
   "cell_type": "code",
   "execution_count": null,
   "id": "228eefaa-169c-486b-a5d2-f13a5728ecdc",
   "metadata": {},
   "outputs": [],
   "source": [
    "# Train logistic regression model\n",
    "model_lr = LogisticRegression()\n",
    "model_lr.fit(X_train, y_train)"
   ]
  },
  {
   "cell_type": "code",
   "execution_count": null,
   "id": "757a204f-b434-4d9f-b531-b4347b3a3e9a",
   "metadata": {},
   "outputs": [],
   "source": [
    "# Define function to help plot ROC curves\n",
    "def plot_roc(y_prob, y_actual):\n",
    "    # Calculate ROC curve\n",
    "    fpr, tpr, thresholds = roc_curve(y_actual, y_prob)\n",
    "    \n",
    "    # Calculate AUC\n",
    "    auc = roc_auc_score(y_actual, y_prob)\n",
    "    \n",
    "    # Plot ROC curve\n",
    "    plt.figure()\n",
    "    plt.plot(fpr, tpr, color=\"blue\", lw=2, label=f\"ROC curve (area = {auc:.4f})\")\n",
    "    plt.plot([0, 1], [0, 1], color=\"gray\", lw=2, linestyle=\"--\")\n",
    "    plt.xlim([0.0, 1.0])\n",
    "    plt.ylim([0.0, 1.05])\n",
    "    plt.xlabel(\"False Positive Rate\")\n",
    "    plt.ylabel(\"True Positive Rate\")\n",
    "    plt.legend(loc=\"lower right\")\n",
    "    plt.show()"
   ]
  },
  {
   "cell_type": "code",
   "execution_count": null,
   "id": "65686b7d-4bec-41f9-8afa-95eaa5033317",
   "metadata": {},
   "outputs": [],
   "source": [
    "# Plot ROC curve for train set\n",
    "plot_roc(model_lr.predict_proba(X_train)[:, 1], y_train)"
   ]
  },
  {
   "cell_type": "code",
   "execution_count": null,
   "id": "d7c8f0ec-8876-4bf8-aa5e-42c35057dbc8",
   "metadata": {},
   "outputs": [],
   "source": [
    "# Plot ROC curve for test set\n",
    "plot_roc(model_lr.predict_proba(X_test)[:, 1], y_test)"
   ]
  },
  {
   "cell_type": "code",
   "execution_count": null,
   "id": "767777a4-2a8e-45c0-b3d6-e22517ee49d6",
   "metadata": {},
   "outputs": [],
   "source": [
    "# Get SHAP feature importance\n",
    "explainer = shap.Explainer(model_lr, X_test)\n",
    "\n",
    "# Calculate SHAP values\n",
    "shap_values = explainer(X_test)\n",
    "\n",
    "# Summarize the feature importances (top 10)\n",
    "shap.summary_plot(shap_values, X_test, plot_type=\"bar\", max_display=10)"
   ]
  },
  {
   "cell_type": "markdown",
   "id": "7ffd4f84-6433-4284-bb29-43ac6aeec5ff",
   "metadata": {},
   "source": [
    "# Train and evaluate model: random forest"
   ]
  },
  {
   "cell_type": "code",
   "execution_count": null,
   "id": "ab16fb77-fd16-4252-875a-1f5831f4587c",
   "metadata": {},
   "outputs": [],
   "source": [
    "# Train random forest model\n",
    "model_rf = RandomForestClassifier(min_samples_split=50, max_features=2)\n",
    "model_rf.fit(X_train, y_train)"
   ]
  },
  {
   "cell_type": "code",
   "execution_count": null,
   "id": "92a8693a-ccfa-414f-a06c-163e98c7a695",
   "metadata": {},
   "outputs": [],
   "source": [
    "# Plot ROC curve for train set\n",
    "plot_roc(model_rf.predict_proba(X_train)[:, 1], y_train)"
   ]
  },
  {
   "cell_type": "code",
   "execution_count": null,
   "id": "9136c6bd-b2ec-4091-acbd-640ca47cde16",
   "metadata": {},
   "outputs": [],
   "source": [
    "# Plot ROC curve for test set\n",
    "plot_roc(model_rf.predict_proba(X_test)[:, 1], y_test)"
   ]
  },
  {
   "cell_type": "code",
   "execution_count": null,
   "id": "3dbc956b-afdb-48bf-aae7-f85ecc8d4f82",
   "metadata": {},
   "outputs": [],
   "source": [
    "# Get feature importance\n",
    "# NOTE: ran into issues using SHAP for this\n",
    "\n",
    "# Create df for coefficients\n",
    "importance_df = pd.DataFrame({\n",
    "    \"feature\": X.columns,\n",
    "    \"importance\": model_rf.feature_importances_\n",
    "    \n",
    "})\n",
    "\n",
    "# # Sort by abs val of coefficients\n",
    "# importance_df[\"abs_coef\"] = importance_df[\"coef\"].abs()\n",
    "# importance_df = importance_df.sort_values(by=\"abs_coef\", ascending=False)\n",
    "\n",
    "importance_df.sort_values(\"importance\", ascending=False).head(10)"
   ]
  },
  {
   "cell_type": "markdown",
   "id": "dc93ca82-aa14-4867-942f-f0985061efc8",
   "metadata": {},
   "source": [
    "# Train and evaluate model: ensemble"
   ]
  },
  {
   "cell_type": "code",
   "execution_count": null,
   "id": "4ea671eb-1078-4622-a0a4-8e7fefadd699",
   "metadata": {},
   "outputs": [],
   "source": [
    "# Train simple model to predict target based on predictions of existing models\n",
    "# Train logistic regression model\n",
    "scores_train = pd.DataFrame({\n",
    "    \"lr_score\": model_lr.predict_proba(X_train)[:, 1],\n",
    "    \"rf_score\": model_rf.predict_proba(X_train)[:, 1]\n",
    "})\n",
    "# NOTE: using stronger regularization here\n",
    "model_ensemble = LogisticRegression(C=0.001)\n",
    "model_ensemble.fit(scores_train, y_train)"
   ]
  },
  {
   "cell_type": "code",
   "execution_count": null,
   "id": "dbb8c401-9e42-4a90-b808-8f596a803f76",
   "metadata": {},
   "outputs": [],
   "source": [
    "# Plot ROC curve for train set\n",
    "plot_roc(model_ensemble.predict_proba(scores_train)[:, 1], y_train)"
   ]
  },
  {
   "cell_type": "code",
   "execution_count": null,
   "id": "5e284644-4e87-4712-98e7-027a37fee09b",
   "metadata": {},
   "outputs": [],
   "source": [
    "# Plot ROC curve for test set\n",
    "scores_test = pd.DataFrame({\n",
    "    \"lr_score\": model_lr.predict_proba(X_test)[:, 1],\n",
    "    \"rf_score\": model_rf.predict_proba(X_test)[:, 1]\n",
    "})\n",
    "plot_roc(model_ensemble.predict_proba(scores_test)[:, 1], y_test)"
   ]
  },
  {
   "cell_type": "code",
   "execution_count": null,
   "id": "cb4b1c0b-706f-4bc8-8b94-1f12e5f1c23b",
   "metadata": {},
   "outputs": [],
   "source": [
    "# Compare with simple ensemble approach - sum of scores\n",
    "plot_roc(model_lr.predict_proba(X_test)[:, 1] + model_rf.predict_proba(X_test)[:, 1], y_test)"
   ]
  }
 ],
 "metadata": {
  "kernelspec": {
   "display_name": "Python 3 (ipykernel)",
   "language": "python",
   "name": "python3"
  },
  "language_info": {
   "codemirror_mode": {
    "name": "ipython",
    "version": 3
   },
   "file_extension": ".py",
   "mimetype": "text/x-python",
   "name": "python",
   "nbconvert_exporter": "python",
   "pygments_lexer": "ipython3",
   "version": "3.10.15"
  }
 },
 "nbformat": 4,
 "nbformat_minor": 5
}
