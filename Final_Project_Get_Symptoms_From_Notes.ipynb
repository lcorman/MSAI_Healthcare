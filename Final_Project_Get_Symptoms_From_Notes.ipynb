{
 "cells": [
  {
   "cell_type": "code",
   "execution_count": null,
   "id": "9b882216-0322-4176-a91f-039cf8293e9a",
   "metadata": {},
   "outputs": [],
   "source": [
    "import numpy as np\n",
    "import pandas as pd\n",
    "import re\n",
    "from itertools import chain"
   ]
  },
  {
   "cell_type": "code",
   "execution_count": null,
   "id": "6422c185-8dbb-4b18-af92-d0e0252abd8e",
   "metadata": {},
   "outputs": [],
   "source": [
    "# (helps with displaying dataframes containing long strings)\n",
    "pd.set_option('display.max_colwidth', 0)"
   ]
  },
  {
   "cell_type": "markdown",
   "id": "50291d03-f9f5-4f34-a0f5-4072e937eaf7",
   "metadata": {},
   "source": [
    "# Load and clean ICD-9 <-> symptoms map"
   ]
  },
  {
   "cell_type": "code",
   "execution_count": null,
   "id": "8ddc10d1-fb07-4fa6-9f03-7542b59b6e16",
   "metadata": {},
   "outputs": [],
   "source": [
    "temp_fp = \"icd9_symptom_map_v2.csv\"\n",
    "icd9_symptoms_map = pd.read_csv(temp_fp)"
   ]
  },
  {
   "cell_type": "code",
   "execution_count": null,
   "id": "40b235db-8171-4e82-a6bc-4e0bd03acf77",
   "metadata": {},
   "outputs": [],
   "source": [
    "# Some ChatGPT responses included some extra preamble and formatting - remove this for ease of analysis\n",
    "icd9_symptoms_map[\"symptoms_clean\"] =  icd9_symptoms_map[\"symptoms\"].apply(lambda x: x.split(\"Symptoms: \")[1])"
   ]
  },
  {
   "cell_type": "code",
   "execution_count": null,
   "id": "152bad82-7437-4d6d-85d9-367f3065cb93",
   "metadata": {},
   "outputs": [],
   "source": [
    "# Convert symptoms from string to list\n",
    "icd9_symptoms_map[\"symptoms_list\"] = icd9_symptoms_map[\"symptoms_clean\"].apply(lambda x: [y.lower() for y in x.split(\", \")])"
   ]
  },
  {
   "cell_type": "code",
   "execution_count": null,
   "id": "d7dda119-4fb8-49ee-b60e-a48e7fdbc48d",
   "metadata": {
    "scrolled": true
   },
   "outputs": [],
   "source": [
    "# Get full list of unique symptoms\n",
    "unique_symptoms = list(set(chain.from_iterable(icd9_symptoms_map[\"symptoms_list\"])))"
   ]
  },
  {
   "cell_type": "markdown",
   "id": "d26109f0-0b9d-421b-b401-6f2caaac2c0f",
   "metadata": {},
   "source": [
    "# Extract symptoms from clinical notes"
   ]
  },
  {
   "cell_type": "code",
   "execution_count": null,
   "id": "a343d26b-37d4-4fbf-ac56-a339685d3e35",
   "metadata": {},
   "outputs": [],
   "source": [
    "notes = pd.read_csv(\"NOTEEVENTS.csv.gz\")"
   ]
  },
  {
   "cell_type": "code",
   "execution_count": null,
   "id": "e0dfcf5b-8999-4c04-9126-0233eaabfa72",
   "metadata": {},
   "outputs": [],
   "source": [
    "# For now, filter notes to only discharge summaries and only relevant columns\n",
    "notes = notes.query(\"CATEGORY == 'Discharge summary'\")\n",
    "notes = notes[[\"HADM_ID\", \"TEXT\"]]"
   ]
  },
  {
   "cell_type": "code",
   "execution_count": null,
   "id": "33fb138a-c038-4658-8fad-85495b2ea2a3",
   "metadata": {},
   "outputs": [],
   "source": [
    "# Extract symptoms from each set of notes\n",
    "temp_pattern = re.compile(\"|\".join(map(re.escape, unique_symptoms)))\n",
    "notes[\"symptoms\"] = notes[\"TEXT\"].apply(lambda x: temp_pattern.findall(x.lower()))"
   ]
  },
  {
   "cell_type": "code",
   "execution_count": null,
   "id": "ccdce5fb-5995-4335-87c9-cc4794e344c8",
   "metadata": {},
   "outputs": [],
   "source": [
    "# Save\n",
    "notes.to_csv(\"notes_and_symptoms.csv\", index=False)"
   ]
  }
 ],
 "metadata": {
  "kernelspec": {
   "display_name": "Python 3 (ipykernel)",
   "language": "python",
   "name": "python3"
  },
  "language_info": {
   "codemirror_mode": {
    "name": "ipython",
    "version": 3
   },
   "file_extension": ".py",
   "mimetype": "text/x-python",
   "name": "python",
   "nbconvert_exporter": "python",
   "pygments_lexer": "ipython3",
   "version": "3.10.15"
  }
 },
 "nbformat": 4,
 "nbformat_minor": 5
}
