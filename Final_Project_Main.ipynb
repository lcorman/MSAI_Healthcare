{
 "cells": [
  {
   "cell_type": "code",
   "execution_count": null,
   "id": "58153976-b8e0-49d5-a8f2-5937fb054574",
   "metadata": {},
   "outputs": [],
   "source": [
    "import numpy as np\n",
    "import pandas as pd\n",
    "from sklearn.preprocessing import MultiLabelBinarizer\n",
    "import networkx as nx\n",
    "import torch\n",
    "from torch_geometric.data import Data\n",
    "from torch_geometric.nn import GCNConv\n",
    "from torch_geometric.loader import DataLoader\n",
    "import ast\n",
    "from itertools import chain"
   ]
  },
  {
   "cell_type": "code",
   "execution_count": null,
   "id": "5f7735d1-1bde-4994-8b90-f536f0d9b33a",
   "metadata": {},
   "outputs": [],
   "source": [
    "# (helps with displaying dataframes containing long strings)\n",
    "pd.set_option('display.max_colwidth', 0)"
   ]
  },
  {
   "cell_type": "markdown",
   "id": "a04768a0-a3d9-4321-94e2-8370bfec21e4",
   "metadata": {},
   "source": [
    "# Load data"
   ]
  },
  {
   "cell_type": "code",
   "execution_count": null,
   "id": "522e627f-cde1-4894-9df4-f58a75182f9f",
   "metadata": {},
   "outputs": [],
   "source": [
    "# Get mapping of ICD-9 codes to symptoms (i.e., based on ChatGPT responses)\n",
    "temp_fp = \"icd9_symptom_map_v2.csv\"\n",
    "icd9_symptoms_map = pd.read_csv(temp_fp, dtype={\"icd9_first_3\": str, \"symptoms\": str})"
   ]
  },
  {
   "cell_type": "code",
   "execution_count": null,
   "id": "e25798e3-4842-425b-be7f-d85c28d17f95",
   "metadata": {},
   "outputs": [],
   "source": [
    "# Some ChatGPT responses included some extra preamble and formatting - remove this for ease of analysis\n",
    "icd9_symptoms_map[\"symptoms_clean\"] =  icd9_symptoms_map[\"symptoms\"].apply(lambda x: x.split(\"Symptoms: \")[1])"
   ]
  },
  {
   "cell_type": "code",
   "execution_count": null,
   "id": "8187674a-af40-42be-b827-bf277cd768c1",
   "metadata": {},
   "outputs": [],
   "source": [
    "# Convert symptoms from string to list\n",
    "icd9_symptoms_map[\"symptoms_list\"] = icd9_symptoms_map[\"symptoms_clean\"].apply(lambda x: [y.lower() for y in x.split(\", \")])"
   ]
  },
  {
   "cell_type": "code",
   "execution_count": null,
   "id": "5eb2fcef-baca-4811-90b0-c13299095d0f",
   "metadata": {},
   "outputs": [],
   "source": [
    "# Get symptoms extracted from clinical notes for each admission\n",
    "temp_fp = \"notes_and_symptoms.csv\"\n",
    "notes_and_symptoms = pd.read_csv(temp_fp)"
   ]
  },
  {
   "cell_type": "code",
   "execution_count": null,
   "id": "27527d33-9751-497f-9746-05fa3e04fd2c",
   "metadata": {},
   "outputs": [],
   "source": [
    "# If there are multiple records with the same HADM_ID, just keep the first one\n",
    "notes_and_symptoms = notes_and_symptoms.drop_duplicates(\"HADM_ID\", keep=\"first\")"
   ]
  },
  {
   "cell_type": "code",
   "execution_count": null,
   "id": "24930053-4ebe-4e43-a378-61f7e54ddd03",
   "metadata": {},
   "outputs": [],
   "source": [
    "# Convert symptoms from string to list\n",
    "notes_and_symptoms[\"symptoms\"] = notes_and_symptoms[\"symptoms\"].apply(lambda x: ast.literal_eval(x))"
   ]
  },
  {
   "cell_type": "code",
   "execution_count": null,
   "id": "75311af0-4fdd-4462-9748-ca5b9d014d6f",
   "metadata": {},
   "outputs": [],
   "source": [
    "# Get unique symptoms for each admission\n",
    "notes_and_symptoms[\"symptoms_unique\"] = notes_and_symptoms[\"symptoms\"].apply(lambda x: list(set(x)))"
   ]
  },
  {
   "cell_type": "code",
   "execution_count": null,
   "id": "f8276720-84af-4a89-a772-637e6fef6203",
   "metadata": {},
   "outputs": [],
   "source": [
    "# Get diagnoses\n",
    "diagnoses = pd.read_csv(\"DIAGNOSES_ICD.csv.gz\")"
   ]
  },
  {
   "cell_type": "code",
   "execution_count": null,
   "id": "22c099ad-ff8b-4044-bfed-56566627651d",
   "metadata": {},
   "outputs": [],
   "source": [
    "# For simplicity, pick first diagnosis in sequence for each admission\n",
    "diagnoses = diagnoses.query(\"SEQ_NUM == 1\")\n",
    "diagnoses = diagnoses[[\"HADM_ID\", \"ICD9_CODE\"]]"
   ]
  },
  {
   "cell_type": "code",
   "execution_count": null,
   "id": "28bc749f-0a10-4ed3-8c99-1e495e08a979",
   "metadata": {},
   "outputs": [],
   "source": [
    "# Get first 3 digits of ICD9 code\n",
    "diagnoses[\"icd9_first_3\"] = diagnoses[\"ICD9_CODE\"].apply(lambda x: x[0:3])"
   ]
  },
  {
   "cell_type": "code",
   "execution_count": null,
   "id": "f0fa7235-9d2a-4670-ad49-9c7f365416aa",
   "metadata": {},
   "outputs": [],
   "source": [
    "# Merge diagnoses with symptoms from discharge notes\n",
    "merge_df = pd.merge(diagnoses, notes_and_symptoms, on=\"HADM_ID\", how=\"inner\")"
   ]
  },
  {
   "cell_type": "code",
   "execution_count": null,
   "id": "3fc0c40d-11d4-4596-bb0e-fb2e1928383d",
   "metadata": {},
   "outputs": [],
   "source": [
    "# Filter ICD9-symptoms map to only include diagnoses that appear in the data (first 3 digits only)\n",
    "icd9_symptoms_map = icd9_symptoms_map[icd9_symptoms_map[\"icd9_first_3\"].isin(merge_df[\"icd9_first_3\"])]"
   ]
  },
  {
   "cell_type": "code",
   "execution_count": null,
   "id": "a8aa9b0a-7f26-4bbe-8697-ad52279bb16b",
   "metadata": {},
   "outputs": [],
   "source": [
    "# Filter merged data to only include diagnoses where we looked up associated symptoms\n",
    "# (i.e., excluding supplementary info)\n",
    "merge_df = merge_df[merge_df[\"icd9_first_3\"].isin(icd9_symptoms_map[\"icd9_first_3\"])]"
   ]
  },
  {
   "cell_type": "code",
   "execution_count": null,
   "id": "97dcb31c-2301-4f92-9d75-873a71b4666f",
   "metadata": {},
   "outputs": [],
   "source": [
    "# TEMP\n",
    "train = merge_df.sample(100)"
   ]
  },
  {
   "cell_type": "markdown",
   "id": "2f4489a5-94c3-43bf-a1ac-983f648c1f29",
   "metadata": {},
   "source": [
    "# Build graph"
   ]
  },
  {
   "cell_type": "code",
   "execution_count": null,
   "id": "4d4230bf-de80-42a9-9a55-8454b987720b",
   "metadata": {},
   "outputs": [],
   "source": [
    "G = nx.Graph()"
   ]
  },
  {
   "cell_type": "code",
   "execution_count": null,
   "id": "85d34ed8-2a41-4bbc-8beb-4b47a8c3450b",
   "metadata": {},
   "outputs": [],
   "source": [
    "all_icd = icd9_symptoms_map[\"icd9_first_3\"].values\n",
    "all_symptoms = list(\n",
    "    set(chain.from_iterable(icd9_symptoms_map[\"symptoms_list\"])).union(\n",
    "        set(chain.from_iterable(train[\"symptoms_unique\"])\n",
    "    )\n",
    "))\n",
    "all_admissions = train[\"HADM_ID\"].values"
   ]
  },
  {
   "cell_type": "code",
   "execution_count": null,
   "id": "eebc42e4-4ee3-4e0e-96bd-e175cb67b83b",
   "metadata": {},
   "outputs": [],
   "source": [
    "# Add nodes\n",
    "G.add_nodes_from([\"icd_\" + x for x in all_icd])\n",
    "G.add_nodes_from([\"symptom_\" + x for x in all_symptoms])\n",
    "G.add_nodes_from([\"hadm_\" + str(x) for x in all_admissions])"
   ]
  },
  {
   "cell_type": "code",
   "execution_count": null,
   "id": "93bcf1b2-9458-40a3-ae25-839956a58aec",
   "metadata": {},
   "outputs": [],
   "source": [
    "# Create a mapping from node labels to indices\n",
    "node_mapping = {node: idx for idx, node in enumerate(G.nodes())}"
   ]
  },
  {
   "cell_type": "code",
   "execution_count": null,
   "id": "fc05d8ad-82b2-44e0-bebf-c37fa400e0a3",
   "metadata": {},
   "outputs": [],
   "source": [
    "# Add edges - ICD9 to symptom\n",
    "for i in range(0, icd9_symptoms_map.shape[0]):\n",
    "    temp_icd = icd9_symptoms_map[\"icd9_first_3\"].iloc[i]\n",
    "    temp_symptoms_list = icd9_symptoms_map[\"symptoms_list\"].iloc[i]\n",
    "    for s in temp_symptoms_list:\n",
    "        G.add_edges_from([(\"icd_\" + temp_icd, \"symptom_\" + s)])"
   ]
  },
  {
   "cell_type": "code",
   "execution_count": null,
   "id": "c16a366e-9459-43bf-b549-2dc4a9974b00",
   "metadata": {},
   "outputs": [],
   "source": [
    "# Add edges - admission to symptom\n",
    "for i in range(0, train.shape[0]):\n",
    "    temp_admit = train[\"HADM_ID\"].iloc[i]\n",
    "    temp_symptoms_list = train[\"symptoms\"].iloc[i]\n",
    "    for s in temp_symptoms_list:\n",
    "        G.add_edges_from([(\"hadm_\" + str(temp_admit), \"symptom_\" + s)])"
   ]
  },
  {
   "cell_type": "code",
   "execution_count": null,
   "id": "7349878d-939c-4743-9c6e-3d50632ba9d5",
   "metadata": {},
   "outputs": [],
   "source": [
    "# Convert to PyTorch Geometric data\n",
    "edge_index = torch.tensor([[node_mapping[edge[0]], node_mapping[edge[1]]] for edge in G.edges()]).t().contiguous()\n",
    "\n",
    "# Use identity matrix as node features\n",
    "x = torch.eye(len(G.nodes()))\n",
    "\n",
    "PyG_data = Data(x=x, edge_index=edge_index)"
   ]
  },
  {
   "cell_type": "code",
   "execution_count": null,
   "id": "abd087ff-27ca-46fe-b1b0-0fbc40284827",
   "metadata": {},
   "outputs": [],
   "source": [
    "# Get node indices for ICD9 codes\n",
    "icd9_node_idx = torch.tensor([node_mapping[node] for node in [\"icd_\" + x for x in all_icd]])"
   ]
  },
  {
   "cell_type": "code",
   "execution_count": null,
   "id": "82395ab9-b38e-4aeb-96b4-511a4a8ec1b4",
   "metadata": {},
   "outputs": [],
   "source": [
    "# Get node indices for admissions\n",
    "hadm_node_idx = torch.tensor([node_mapping[node] for node in [\"hadm_\" + str(x) for x in all_admissions]])"
   ]
  },
  {
   "cell_type": "code",
   "execution_count": null,
   "id": "ba6a2a72-fb82-433e-9b9e-c1eda2c8cece",
   "metadata": {},
   "outputs": [],
   "source": [
    "# Create label vector for each admission\n",
    "# (i.e., 1 in the column corresponding with the primary diagnosis, 0 elsewhere)\n",
    "mlb = MultiLabelBinarizer(classes=all_icd)\n",
    "train_labels = mlb.fit_transform(train[\"icd9_first_3\"].apply(lambda x: [x]))\n",
    "train_labels = torch.tensor(train_labels, dtype=torch.float)"
   ]
  },
  {
   "cell_type": "markdown",
   "id": "aa26c512-e23d-48d6-84d9-756a1d583e75",
   "metadata": {},
   "source": [
    "# Train GNN model"
   ]
  },
  {
   "cell_type": "code",
   "execution_count": null,
   "id": "6278bad9-2f40-443f-a760-300475108502",
   "metadata": {},
   "outputs": [],
   "source": [
    "# Create simple GNN model with two graph convolutional layers\n",
    "class GNN(torch.nn.Module):\n",
    "    def __init__(self, num_features, hidden_dim, num_classes):\n",
    "        super(GNN, self).__init__()\n",
    "        self.conv1 = GCNConv(num_features, hidden_dim)\n",
    "        self.conv2 = GCNConv(hidden_dim, num_classes)\n",
    "\n",
    "    def forward(self, data):\n",
    "        x, edge_index = data.x, data.edge_index\n",
    "        x = self.conv1(x, edge_index)\n",
    "        x = torch.nn.functional.relu(x)\n",
    "        x = self.conv2(x, edge_index)\n",
    "        return torch.nn.functional.log_softmax(x, dim=1)"
   ]
  },
  {
   "cell_type": "code",
   "execution_count": null,
   "id": "9231d6df-063a-4b6d-9cdc-8e4c2ba96841",
   "metadata": {},
   "outputs": [],
   "source": [
    "# Initialize model\n",
    "model = GNN(num_features=PyG_data.num_features, hidden_dim=16, num_classes=len(all_diags))"
   ]
  },
  {
   "cell_type": "code",
   "execution_count": null,
   "id": "6d42f852-295e-4826-a870-885de1621a43",
   "metadata": {},
   "outputs": [],
   "source": [
    "# Set optimizer and loss function\n",
    "optimizer = torch.optim.Adam(model.parameters(), lr=0.01)\n",
    "criterion = torch.nn.CrossEntropyLoss()"
   ]
  },
  {
   "cell_type": "code",
   "execution_count": null,
   "id": "c750e095-f4d7-459d-8bf0-175fb6330efe",
   "metadata": {},
   "outputs": [],
   "source": [
    "# Train model\n",
    "model.train()\n",
    "for i in range(0, 200):\n",
    "    optimizer.zero_grad()\n",
    "    full_output = model(PyG_data)\n",
    "    \n",
    "    # Get output for ICD9 nodes\n",
    "    icd9_output = full_output[icd9_node_idx]\n",
    "    \n",
    "    # Get output for admission nodes\n",
    "    hadm_output = full_output[hadm_node_idx]\n",
    "    \n",
    "    loss = criterion(hadm_output, train_labels)\n",
    "    print(loss)\n",
    "    loss.backward()\n",
    "    optimizer.step()"
   ]
  },
  {
   "cell_type": "markdown",
   "id": "3c8114e4-64c1-4288-ba3f-975a05b834c6",
   "metadata": {},
   "source": [
    "# Evaluate GNN model"
   ]
  },
  {
   "cell_type": "code",
   "execution_count": null,
   "id": "29468dc9-f0d6-4b8d-92e6-47f27e4c0593",
   "metadata": {},
   "outputs": [],
   "source": [
    "# Evaluate training accuracy\n",
    "pred_idx = hadm_output.argmax(axis=1)\n",
    "gold_idx = train_labels.argmax(axis=1)\n",
    "train_accuracy = pred_idx.eq(gold_idx).sum().item() / len(gold_idx)\n",
    "print(train_accuracy)"
   ]
  },
  {
   "cell_type": "code",
   "execution_count": null,
   "id": "6f43f10e-45d2-42dc-805f-70358cd0621e",
   "metadata": {},
   "outputs": [],
   "source": []
  }
 ],
 "metadata": {
  "kernelspec": {
   "display_name": "Python 3 (ipykernel)",
   "language": "python",
   "name": "python3"
  },
  "language_info": {
   "codemirror_mode": {
    "name": "ipython",
    "version": 3
   },
   "file_extension": ".py",
   "mimetype": "text/x-python",
   "name": "python",
   "nbconvert_exporter": "python",
   "pygments_lexer": "ipython3",
   "version": "3.10.15"
  }
 },
 "nbformat": 4,
 "nbformat_minor": 5
}
