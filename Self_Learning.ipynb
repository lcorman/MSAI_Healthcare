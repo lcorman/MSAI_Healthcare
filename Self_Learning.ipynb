{
 "cells": [
  {
   "cell_type": "code",
   "execution_count": null,
   "id": "26a9a348-d286-4a82-85de-d72a5c03b34f",
   "metadata": {},
   "outputs": [],
   "source": [
    "import numpy as np\n",
    "import pandas as pd\n",
    "from sklearn.linear_model import LogisticRegression\n",
    "from sklearn.metrics import roc_curve, roc_auc_score\n",
    "import matplotlib.pyplot as plt\n",
    "from gensim.models import Word2Vec"
   ]
  },
  {
   "cell_type": "markdown",
   "id": "f35a261b-2ef1-4f7f-a3e3-bbbce40d20c3",
   "metadata": {},
   "source": [
    "# Load and clean data"
   ]
  },
  {
   "cell_type": "code",
   "execution_count": null,
   "id": "c6978b72-fae0-4c2a-ad96-a2d43be615e1",
   "metadata": {},
   "outputs": [],
   "source": [
    "# Load data\n",
    "admissions = pd.read_csv(\"ADMISSIONS.csv.gz\")\n",
    "diagnoses = pd.read_csv(\"DIAGNOSES_ICD.csv.gz\")"
   ]
  },
  {
   "cell_type": "code",
   "execution_count": null,
   "id": "ac9ebc8e-37ec-4668-95f7-4f4b7b2390cb",
   "metadata": {},
   "outputs": [],
   "source": [
    "# Filter out null diagnoses\n",
    "diagnoses = diagnoses[~diagnoses[\"ICD9_CODE\"].isna()]"
   ]
  },
  {
   "cell_type": "code",
   "execution_count": null,
   "id": "d345a1f6-be4c-4dea-8eb8-0699853beb3e",
   "metadata": {},
   "outputs": [],
   "source": [
    "# Exclude newborns\n",
    "admissions = admissions.query(\"ADMISSION_TYPE != 'NEWBORN'\")"
   ]
  },
  {
   "cell_type": "code",
   "execution_count": null,
   "id": "720654f8-1833-474c-8e7c-201c6ba28f8a",
   "metadata": {},
   "outputs": [],
   "source": [
    "# Exclude admissions with no diagnoses\n",
    "admissions = admissions[admissions[\"HADM_ID\"].isin(diagnoses[\"HADM_ID\"])]"
   ]
  },
  {
   "cell_type": "code",
   "execution_count": null,
   "id": "49663d14-eedb-4a47-a015-7948c325aa48",
   "metadata": {},
   "outputs": [],
   "source": [
    "# Apply a little bit of feature engineering\n",
    "admissions[\"LANGUAGE\"] = np.where(admissions[\"LANGUAGE\"] == \"ENGL\", \"ENGLISH\", \"NOT ENGLISH\")\n",
    "admissions[\"ETHNICITY\"] = admissions[\"ETHNICITY\"].str.split(' - ').str[0]"
   ]
  },
  {
   "cell_type": "markdown",
   "id": "f5826202-e459-47ea-8eba-6acc1611be82",
   "metadata": {},
   "source": [
    "# Part 1: without diagnosis codes"
   ]
  },
  {
   "cell_type": "code",
   "execution_count": null,
   "id": "b5319775-4f5c-4fb2-83f9-09052f2f7076",
   "metadata": {},
   "outputs": [],
   "source": [
    "# Select initial feature set\n",
    "features_init = [\"ADMISSION_TYPE\", \"ADMISSION_LOCATION\", \"INSURANCE\", \"LANGUAGE\", \"RELIGION\", \"MARITAL_STATUS\", \"ETHNICITY\"]"
   ]
  },
  {
   "cell_type": "code",
   "execution_count": null,
   "id": "93e9dab7-3daf-4db6-83f7-1666123d61a1",
   "metadata": {},
   "outputs": [],
   "source": [
    "# One-hot encode the feature set\n",
    "X = pd.get_dummies(admissions[features_init], prefix=features_init, dummy_na=True)"
   ]
  },
  {
   "cell_type": "code",
   "execution_count": null,
   "id": "09bf0e3e-1ad7-428b-9448-f7f49649e1a8",
   "metadata": {},
   "outputs": [],
   "source": [
    "# Get the target\n",
    "y = admissions[\"HOSPITAL_EXPIRE_FLAG\"]"
   ]
  },
  {
   "cell_type": "code",
   "execution_count": null,
   "id": "aa184ff3-09f6-49e0-95b6-d5ebf6f11645",
   "metadata": {},
   "outputs": [],
   "source": [
    "# Split into train and test sets (70/30)\n",
    "np.random.seed(777)\n",
    "train_perc = 0.7\n",
    "train_size = round(train_perc * X.shape[0])\n",
    "train_idx = np.random.choice(X.index, train_size, replace=False)\n",
    "train_mask = np.where(X.index.isin(train_idx), True, False)\n",
    "\n",
    "X_train = X[train_mask]\n",
    "X_test = X[~train_mask]\n",
    "y_train = y[train_mask]\n",
    "y_test = y[~train_mask]"
   ]
  },
  {
   "cell_type": "code",
   "execution_count": null,
   "id": "228eefaa-169c-486b-a5d2-f13a5728ecdc",
   "metadata": {},
   "outputs": [],
   "source": [
    "# Train logistic regression model\n",
    "model = LogisticRegression()\n",
    "model.fit(X_train, y_train)"
   ]
  },
  {
   "cell_type": "code",
   "execution_count": null,
   "id": "757a204f-b434-4d9f-b531-b4347b3a3e9a",
   "metadata": {},
   "outputs": [],
   "source": [
    "# Define function to help plot ROC curves\n",
    "def plot_roc(y_prob, y_actual):\n",
    "    # Calculate ROC curve\n",
    "    fpr, tpr, thresholds = roc_curve(y_actual, y_prob)\n",
    "    \n",
    "    # Calculate AUC\n",
    "    auc = roc_auc_score(y_actual, y_prob)\n",
    "    \n",
    "    # Plot ROC curve\n",
    "    plt.figure()\n",
    "    plt.plot(fpr, tpr, color=\"blue\", lw=2, label=f\"ROC curve (area = {auc:.4f})\")\n",
    "    plt.plot([0, 1], [0, 1], color=\"gray\", lw=2, linestyle=\"--\")\n",
    "    plt.xlim([0.0, 1.0])\n",
    "    plt.ylim([0.0, 1.05])\n",
    "    plt.xlabel(\"False Positive Rate\")\n",
    "    plt.ylabel(\"True Positive Rate\")\n",
    "    plt.legend(loc=\"lower right\")\n",
    "    plt.show()"
   ]
  },
  {
   "cell_type": "code",
   "execution_count": null,
   "id": "65686b7d-4bec-41f9-8afa-95eaa5033317",
   "metadata": {},
   "outputs": [],
   "source": [
    "# Plot ROC curve for train set\n",
    "plot_roc(model.predict_proba(X_train)[:, 1], y_train)"
   ]
  },
  {
   "cell_type": "code",
   "execution_count": null,
   "id": "d7c8f0ec-8876-4bf8-aa5e-42c35057dbc8",
   "metadata": {},
   "outputs": [],
   "source": [
    "# Plot ROC curve for test set\n",
    "plot_roc(model.predict_proba(X_test)[:, 1], y_test)"
   ]
  },
  {
   "cell_type": "code",
   "execution_count": null,
   "id": "9d55c4dc-7040-45af-a19e-eca9fbcd4c1b",
   "metadata": {},
   "outputs": [],
   "source": [
    "# Create function to help with feature importance\n",
    "# (i.e., looking at largest coefficients)\n",
    "def feat_importance(model, data, coef_std=False):\n",
    "    # Create df for coefficients\n",
    "    importance_df = pd.DataFrame({\n",
    "        \"feature\": data.columns,\n",
    "        \"coef\": model.coef_[0]\n",
    "        \n",
    "    })\n",
    "\n",
    "    # If specified, standardize coefficients use std dev of each feature\n",
    "    if coef_std:\n",
    "        importance_df[\"coef\"] = importance_df[\"coef\"] * data.std().values\n",
    "    \n",
    "    # Sort by abs val of coefficients\n",
    "    importance_df[\"abs_coef\"] = importance_df[\"coef\"].abs()\n",
    "    importance_df = importance_df.sort_values(by=\"abs_coef\", ascending=False)\n",
    "    \n",
    "    return importance_df"
   ]
  },
  {
   "cell_type": "code",
   "execution_count": null,
   "id": "507a1d6b-21d7-450e-8ae5-eac84de5c7d7",
   "metadata": {},
   "outputs": [],
   "source": [
    "# Look at feature importance - unstandardized\n",
    "feat_importance(model, X_train, coef_std=False).head(10)"
   ]
  },
  {
   "cell_type": "code",
   "execution_count": null,
   "id": "dfb6cf92-72b0-4b10-be6d-b826da78872e",
   "metadata": {},
   "outputs": [],
   "source": [
    "# Look at feature importance - standardized\n",
    "feat_importance(model, X_train, coef_std=True).head(10)"
   ]
  },
  {
   "cell_type": "markdown",
   "id": "a2efe12c-8299-4602-b560-ec3bc65b99f6",
   "metadata": {},
   "source": [
    "# Part 2: with diagnosis codes"
   ]
  },
  {
   "cell_type": "code",
   "execution_count": null,
   "id": "c0bbef46-3fcc-4709-943d-e34f4b8e988b",
   "metadata": {},
   "outputs": [],
   "source": [
    "# Pre-process diagnosis data\n",
    "\n",
    "# Group diagnoses by admission\n",
    "diags_grouped = diagnoses.groupby(\"HADM_ID\")[\"ICD9_CODE\"].apply(list).reset_index()\n",
    "\n",
    "# Split into train and test\n",
    "diags_train = diags_grouped[diags_grouped[\"HADM_ID\"].isin(admissions[train_mask][\"HADM_ID\"])]\n",
    "diags_test = diags_grouped[diags_grouped[\"HADM_ID\"].isin(admissions[~train_mask][\"HADM_ID\"])]"
   ]
  },
  {
   "cell_type": "code",
   "execution_count": null,
   "id": "26bd566d-2507-485e-adaa-26b4decc0f1f",
   "metadata": {},
   "outputs": [],
   "source": [
    "# Train Word2Vec model for diagnoses (using training data only)\n",
    "\n",
    "EMBEDDING_LENGTH = 50\n",
    "\n",
    "# Convert to list of lists\n",
    "diags_corpus = diags_train[\"ICD9_CODE\"].tolist()\n",
    "\n",
    "# Train model\n",
    "w2v = Word2Vec(diags_corpus, vector_size=EMBEDDING_LENGTH, window=40)"
   ]
  },
  {
   "cell_type": "code",
   "execution_count": null,
   "id": "b1139f5a-b65d-4a4f-a60d-06e88756bba3",
   "metadata": {},
   "outputs": [],
   "source": [
    "# Define function to get average embedding vector given list of list of codes\n",
    "def get_avg_embedding(w2v, icd_list):\n",
    "    embeddings = []\n",
    "\n",
    "    for code in icd_list:\n",
    "        if code in w2v.wv:\n",
    "            embeddings.append(w2v.wv[code])\n",
    "\n",
    "    if len(embeddings) > 0:\n",
    "        # Compute the average of the vectors\n",
    "        avg_embedding = np.mean(embeddings, axis=0)\n",
    "\n",
    "        # Standardize values to between -1 and 1\n",
    "        avg_embedding = avg_embedding / np.abs(avg_embedding).max()\n",
    "    else:\n",
    "        # Handle case where no codes are in the vocabulary\n",
    "        avg_embedding = np.zeros(w2v.vector_size)\n",
    "    \n",
    "    return avg_embedding"
   ]
  },
  {
   "cell_type": "code",
   "execution_count": null,
   "id": "d856d908-635b-4d09-a105-606998f18481",
   "metadata": {},
   "outputs": [],
   "source": [
    "# Get diagnosis code embeddings for training data\n",
    "diag_embeddings_train = []\n",
    "for icd_list in diags_train[\"ICD9_CODE\"]:\n",
    "    diag_embeddings_train.append(get_avg_embedding(w2v, icd_list))"
   ]
  },
  {
   "cell_type": "code",
   "execution_count": null,
   "id": "b4601e2c-7657-4099-b5a7-d69b8a932a7a",
   "metadata": {},
   "outputs": [],
   "source": [
    "# Convert to dataframe\n",
    "diag_embeddings_train = pd.DataFrame(np.vstack(diag_embeddings_train), columns=[f\"diag_vec_{i}\" for i in range(0, EMBEDDING_LENGTH)])"
   ]
  },
  {
   "cell_type": "code",
   "execution_count": null,
   "id": "3cbae7c8-fa11-451f-ae50-f1980178b5b0",
   "metadata": {},
   "outputs": [],
   "source": [
    "# Combine with rest of training data\n",
    "X_train_w_diag = pd.concat([X_train.reset_index(drop=True), diag_embeddings_train], axis=1)"
   ]
  },
  {
   "cell_type": "code",
   "execution_count": null,
   "id": "87f886e4-0c39-4e79-986f-52d70e5e0d4b",
   "metadata": {},
   "outputs": [],
   "source": [
    "# Do same for test data\n",
    "\n",
    "# Get diagnosis code embeddings for training data\n",
    "diag_embeddings_test = []\n",
    "for icd_list in diags_test[\"ICD9_CODE\"]:\n",
    "    diag_embeddings_test.append(get_avg_embedding(w2v, icd_list))\n",
    "\n",
    "# Convert to dataframe\n",
    "diag_embeddings_test = pd.DataFrame(np.vstack(diag_embeddings_test), columns=[f\"diag_vec_{i}\" for i in range(0, EMBEDDING_LENGTH)])\n",
    "\n",
    "# Combine with rest of test data\n",
    "X_test_w_diag = pd.concat([X_test.reset_index(drop=True), diag_embeddings_test], axis=1)"
   ]
  },
  {
   "cell_type": "code",
   "execution_count": null,
   "id": "12c9a5b2-2848-4976-ad34-7e4e2d839f82",
   "metadata": {},
   "outputs": [],
   "source": [
    "# Re-train model\n",
    "model = LogisticRegression()\n",
    "model.fit(X_train_w_diag, y_train)"
   ]
  },
  {
   "cell_type": "code",
   "execution_count": null,
   "id": "b84d7f6d-405a-41da-8453-ca439190140c",
   "metadata": {},
   "outputs": [],
   "source": [
    "# Plot ROC curve for train set\n",
    "plot_roc(model.predict_proba(X_train_w_diag)[:, 1], y_train)"
   ]
  },
  {
   "cell_type": "code",
   "execution_count": null,
   "id": "9ba9544c-464d-41db-80e4-16eac2d34375",
   "metadata": {},
   "outputs": [],
   "source": [
    "# Plot ROC curve for test set\n",
    "plot_roc(model.predict_proba(X_test_w_diag)[:, 1], y_test)"
   ]
  },
  {
   "cell_type": "code",
   "execution_count": null,
   "id": "7b46283f-822c-4309-808e-ec58e0bf79ca",
   "metadata": {},
   "outputs": [],
   "source": [
    "# Look at feature importance - unstandardized\n",
    "feat_importance(model, X_train_w_diag, coef_std=False).head(10)"
   ]
  },
  {
   "cell_type": "code",
   "execution_count": null,
   "id": "f84864d7-fcf0-4c7c-9c16-fa927a7708d5",
   "metadata": {},
   "outputs": [],
   "source": [
    "# Look at feature importance - standardized\n",
    "feat_importance(model, X_train_w_diag, coef_std=True).head(10)"
   ]
  },
  {
   "cell_type": "markdown",
   "id": "38e76413-512f-4473-8031-444848989d8d",
   "metadata": {},
   "source": [
    "# Part 3: diagnosis codes only"
   ]
  },
  {
   "cell_type": "code",
   "execution_count": null,
   "id": "062fb228-5b30-4f62-a6df-1c5355aeda3f",
   "metadata": {},
   "outputs": [],
   "source": [
    "# Re-train model on only diagnosis codes\n",
    "model = LogisticRegression()\n",
    "model.fit(diag_embeddings_train, y_train)"
   ]
  },
  {
   "cell_type": "code",
   "execution_count": null,
   "id": "a3b2698c-0e94-4a00-9abc-5738b717f716",
   "metadata": {},
   "outputs": [],
   "source": [
    "# Plot ROC curve for train set\n",
    "plot_roc(model.predict_proba(diag_embeddings_train)[:, 1], y_train)"
   ]
  },
  {
   "cell_type": "code",
   "execution_count": null,
   "id": "e65c3665-1e6e-41b1-90e5-564c06f946ef",
   "metadata": {},
   "outputs": [],
   "source": [
    "# Plot ROC curve for test set\n",
    "plot_roc(model.predict_proba(diag_embeddings_test)[:, 1], y_test)"
   ]
  }
 ],
 "metadata": {
  "kernelspec": {
   "display_name": "Python 3 (ipykernel)",
   "language": "python",
   "name": "python3"
  },
  "language_info": {
   "codemirror_mode": {
    "name": "ipython",
    "version": 3
   },
   "file_extension": ".py",
   "mimetype": "text/x-python",
   "name": "python",
   "nbconvert_exporter": "python",
   "pygments_lexer": "ipython3",
   "version": "3.10.15"
  }
 },
 "nbformat": 4,
 "nbformat_minor": 5
}
