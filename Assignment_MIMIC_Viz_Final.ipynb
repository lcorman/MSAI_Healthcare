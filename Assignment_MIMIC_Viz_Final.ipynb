{
 "cells": [
  {
   "cell_type": "code",
   "execution_count": null,
   "id": "7bb86add",
   "metadata": {},
   "outputs": [],
   "source": [
    "import numpy as np\n",
    "import pandas as pd\n",
    "import seaborn as sns\n",
    "import matplotlib.pyplot as plt\n",
    "from datetime import datetime"
   ]
  },
  {
   "cell_type": "code",
   "execution_count": null,
   "id": "b62539ee",
   "metadata": {},
   "outputs": [],
   "source": [
    "FOLDER = \"MIMIC-III Demo\""
   ]
  },
  {
   "cell_type": "code",
   "execution_count": null,
   "id": "24b08a58",
   "metadata": {},
   "outputs": [],
   "source": [
    "# Load patients data\n",
    "patients = pd.read_csv(f\"{FOLDER}/PATIENTS.csv\")"
   ]
  },
  {
   "cell_type": "code",
   "execution_count": null,
   "id": "2cd2df95",
   "metadata": {},
   "outputs": [],
   "source": [
    "# Add age for each patient\n",
    "def calculate_age(dob, dod):\n",
    "    dob_date = datetime.strptime(dob, \"%Y-%m-%d %H:%M:%S\")\n",
    "    dod_date = datetime.strptime(dod, \"%Y-%m-%d %H:%M:%S\")\n",
    "    age = (dod_date - dob_date).days // 365\n",
    "    return age\n",
    "\n",
    "patients[\"age\"] = patients.apply(lambda row: calculate_age(row[\"dob\"], row[\"dod\"]), axis=1)"
   ]
  },
  {
   "cell_type": "code",
   "execution_count": null,
   "id": "0309596a",
   "metadata": {},
   "outputs": [],
   "source": [
    "# Check how many patients have invalid age\n",
    "# (don't want to full drop these yet, but will need to for specific visualizations)\n",
    "(patients[\"age\"] > 120).sum()"
   ]
  },
  {
   "cell_type": "code",
   "execution_count": null,
   "id": "024a9304",
   "metadata": {},
   "outputs": [],
   "source": [
    "# Load admissions data\n",
    "admissions = pd.read_csv(f\"{FOLDER}/ADMISSIONS.csv\")"
   ]
  },
  {
   "cell_type": "code",
   "execution_count": null,
   "id": "ddefaeff",
   "metadata": {},
   "outputs": [],
   "source": [
    "# Get length of stay (in days)\n",
    "def calculate_length_of_stay(admittime, dischtime):\n",
    "    admit_date = datetime.strptime(admittime, \"%Y-%m-%d %H:%M:%S\")\n",
    "    disch_date = datetime.strptime(dischtime, \"%Y-%m-%d %H:%M:%S\")\n",
    "    return (disch_date - admit_date).days\n",
    "\n",
    "admissions[\"length_of_stay\"] = admissions.apply(\n",
    "    lambda row: calculate_length_of_stay(row[\"admittime\"], row[\"dischtime\"]), \n",
    "    axis=1\n",
    ")"
   ]
  },
  {
   "cell_type": "code",
   "execution_count": null,
   "id": "e49c2bc5",
   "metadata": {},
   "outputs": [],
   "source": [
    "# Get diagnosis data\n",
    "diagnoses = pd.read_csv(f\"{FOLDER}/DIAGNOSES_ICD.csv\")"
   ]
  },
  {
   "cell_type": "code",
   "execution_count": null,
   "id": "812bc2be",
   "metadata": {},
   "outputs": [],
   "source": [
    "# Get ICD9 lookup\n",
    "icd_lookup = pd.read_csv(f\"{FOLDER}/D_ICD_DIAGNOSES.csv\")"
   ]
  },
  {
   "cell_type": "code",
   "execution_count": null,
   "id": "a26f4742",
   "metadata": {},
   "outputs": [],
   "source": [
    "# Join to get ICD descriptions\n",
    "diagnoses = diagnoses.merge(icd_lookup[[\"icd9_code\", \"short_title\"]], on=\"icd9_code\", how=\"left\")"
   ]
  },
  {
   "cell_type": "code",
   "execution_count": null,
   "id": "6af8119e",
   "metadata": {},
   "outputs": [],
   "source": [
    "# Rename for clarity\n",
    "diagnoses.rename(columns={\"short_title\": \"icd9_desc\"}, inplace=True)"
   ]
  },
  {
   "cell_type": "code",
   "execution_count": null,
   "id": "7726d3e7",
   "metadata": {},
   "outputs": [],
   "source": [
    "# Check for diagnosis codes that don't appear in the lookup table\n",
    "# (could try to address this, but not doing that right now)\n",
    "diagnoses[diagnoses[\"icd9_desc\"].isna()][\"icd9_code\"].value_counts(ascending=False)"
   ]
  },
  {
   "cell_type": "code",
   "execution_count": null,
   "id": "d0d308bc",
   "metadata": {},
   "outputs": [],
   "source": [
    "# Get primary diagnosis for each patient-admission combo\n",
    "diagnoses_seq1 = diagnoses.query(\"seq_num == 1\")"
   ]
  },
  {
   "cell_type": "markdown",
   "id": "7e6115da",
   "metadata": {},
   "source": [
    "# (1) Diagnoses for readmitted patients"
   ]
  },
  {
   "cell_type": "code",
   "execution_count": null,
   "id": "ca38209e",
   "metadata": {},
   "outputs": [],
   "source": [
    "# Get patients with multiple admissions\n",
    "multiple_admissions = admissions.groupby(\"subject_id\").filter(lambda x: x.shape[0] > 1).sort_values(\"subject_id\")"
   ]
  },
  {
   "cell_type": "code",
   "execution_count": null,
   "id": "602e1684",
   "metadata": {},
   "outputs": [],
   "source": [
    "multiple_admissions.shape"
   ]
  },
  {
   "cell_type": "code",
   "execution_count": null,
   "id": "827dc7f5",
   "metadata": {},
   "outputs": [],
   "source": [
    "# Join to get top diagnosis for each admission\n",
    "multiple_admissions = multiple_admissions.merge(\n",
    "    diagnoses_seq1[[\"subject_id\", \"hadm_id\", \"icd9_code\", \"icd9_desc\"]],\n",
    "    on=[\"subject_id\", \"hadm_id\"],\n",
    "    how=\"inner\"\n",
    ")"
   ]
  },
  {
   "cell_type": "code",
   "execution_count": null,
   "id": "ccec8659",
   "metadata": {},
   "outputs": [],
   "source": [
    "# Add column for sequence of admissions\n",
    "multiple_admissions[\"admit_num\"] = multiple_admissions.sort_values([\"subject_id\", \"admittime\"]).groupby(\"subject_id\").cumcount() + 1\n",
    "\n",
    "# For simplicity, only consider first two admissions\n",
    "multiple_admissions = multiple_admissions.query(\"admit_num < 3\")\n",
    "\n",
    "# Reshape for easier comparison of first and second diagnosis\n",
    "plot_df = multiple_admissions[[\"subject_id\", \"admit_num\", \"icd9_desc\"]].pivot(\n",
    "    index=\"subject_id\",\n",
    "    columns=\"admit_num\",\n",
    "    values=\"icd9_desc\"\n",
    ")"
   ]
  },
  {
   "cell_type": "code",
   "execution_count": null,
   "id": "f17ba38e",
   "metadata": {},
   "outputs": [],
   "source": [
    "# Rename columns\n",
    "plot_df.columns = [\"code_1\", \"code_2\"]"
   ]
  },
  {
   "cell_type": "code",
   "execution_count": null,
   "id": "d99c3677",
   "metadata": {},
   "outputs": [],
   "source": [
    "# Add flag for whether diagnosis is same for 1 and 2\n",
    "# (i.e., primary reason for both visits was the same)\n",
    "plot_df[\"same_code\"] = (plot_df[\"code_1\"] == plot_df[\"code_2\"])"
   ]
  },
  {
   "cell_type": "code",
   "execution_count": null,
   "id": "573ca6ef",
   "metadata": {},
   "outputs": [],
   "source": [
    "# Check how often diagnosis is the same\n",
    "plot_df[\"same_code\"].value_counts()"
   ]
  },
  {
   "cell_type": "code",
   "execution_count": null,
   "id": "82f63770",
   "metadata": {},
   "outputs": [],
   "source": [
    "plot_df"
   ]
  },
  {
   "cell_type": "code",
   "execution_count": null,
   "id": "41d16142",
   "metadata": {},
   "outputs": [],
   "source": [
    "# Get count of occurrences across code 1 and 2\n",
    "pd.concat([plot_df[\"code_1\"], plot_df[\"code_2\"]]).value_counts()"
   ]
  },
  {
   "cell_type": "code",
   "execution_count": null,
   "id": "a133ebf1",
   "metadata": {},
   "outputs": [],
   "source": [
    "# Plot graph of different combinations\n",
    "import networkx as nx\n",
    "\n",
    "edges = plot_df[['code_1', 'code_2']].values.tolist()\n",
    "G = nx.Graph()\n",
    "G.add_edges_from(edges)\n",
    "pos = nx.random_layout(G, seed=42)\n",
    "nx.draw(G, pos, with_labels=True)\n",
    "plt.show()"
   ]
  },
  {
   "cell_type": "markdown",
   "id": "d0098c0b",
   "metadata": {},
   "source": [
    "# 2) Diagnoses and prescriptions"
   ]
  },
  {
   "cell_type": "code",
   "execution_count": null,
   "id": "4fa464a2",
   "metadata": {},
   "outputs": [],
   "source": [
    "# Load prescription data\n",
    "prescriptions = pd.read_csv(f\"{FOLDER}/PRESCRIPTIONS.csv\")"
   ]
  },
  {
   "cell_type": "code",
   "execution_count": null,
   "id": "1a17867e",
   "metadata": {},
   "outputs": [],
   "source": [
    "# Get unique drugs for each patient-admission combo\n",
    "drugs_by_visit = prescriptions[[\"subject_id\", \"hadm_id\", \"drug\"]].drop_duplicates()"
   ]
  },
  {
   "cell_type": "code",
   "execution_count": null,
   "id": "e78971e0",
   "metadata": {},
   "outputs": [],
   "source": [
    "# Join with diagnosis data\n",
    "drugs_and_diagnoses = diagnoses.merge(\n",
    "    drugs_by_visit,\n",
    "    on=[\"subject_id\", \"hadm_id\"],\n",
    "    how=\"inner\"\n",
    ")"
   ]
  },
  {
   "cell_type": "code",
   "execution_count": null,
   "id": "5f260637",
   "metadata": {},
   "outputs": [],
   "source": [
    "# To make plot manageable, filter to top 10 most frequent drugs and diagnoses\n",
    "top10_drugs = drugs_by_visit[\"drug\"].value_counts(ascending=False).index.tolist()[0:10]\n",
    "top10_diagnoses = diagnoses[\"icd9_desc\"].value_counts(ascending=False).index.tolist()[0:10]\n",
    "drugs_and_diagnoses_filtered = drugs_and_diagnoses[\n",
    "    (drugs_and_diagnoses[\"drug\"].isin(top10_drugs))\n",
    "    & (drugs_and_diagnoses[\"icd9_desc\"].isin(top10_diagnoses))\n",
    "]"
   ]
  },
  {
   "cell_type": "code",
   "execution_count": null,
   "id": "f0f90460",
   "metadata": {},
   "outputs": [],
   "source": [
    "# Create heatmap\n",
    "plot_df = drugs_and_diagnoses_filtered.groupby([\"icd9_desc\", \"drug\"]).size().unstack().fillna(0)\n",
    "\n",
    "# Create a heatmap\n",
    "plt.figure(figsize=(12, 8))\n",
    "# sns.heatmap(plot_df, annot=True, fmt='g', cmap='YlGnBu')\n",
    "sns.heatmap(plot_df, annot=True, cmap=\"Blues\")\n",
    "plt.title(\"Diagnosis / Drug Co-Occurrence\")\n",
    "plt.xlabel(\"Drug\")\n",
    "plt.ylabel(\"Diagnosis\")\n",
    "plt.xticks(rotation=45, ha=\"right\")\n",
    "\n",
    "# Show the plot\n",
    "plt.show()"
   ]
  },
  {
   "cell_type": "code",
   "execution_count": null,
   "id": "ab230bb2",
   "metadata": {},
   "outputs": [],
   "source": [
    "# Average co-occurrence\n",
    "drugs_and_diagnoses_filtered.groupby([\"icd9_desc\", \"drug\"]).size().mean()"
   ]
  },
  {
   "cell_type": "markdown",
   "id": "aa4578b1",
   "metadata": {},
   "source": [
    "# 3) Time to death after discharge"
   ]
  },
  {
   "cell_type": "code",
   "execution_count": null,
   "id": "071de197",
   "metadata": {},
   "outputs": [],
   "source": [
    "# Get latest discharge for patients that didn't die in hosptial\n",
    "latest_disch = admissions.query(\"hospital_expire_flag != 1\")[[\"subject_id\", \"hadm_id\", \"dischtime\"]]\n",
    "latest_disch = latest_disch.sort_values([\"subject_id\", \"dischtime\"], ascending=False).drop_duplicates(\"subject_id\", keep=\"first\")"
   ]
  },
  {
   "cell_type": "code",
   "execution_count": null,
   "id": "1faecc5c",
   "metadata": {},
   "outputs": [],
   "source": [
    "# Get discharge datetime and death datetime in single df\n",
    "# and calculate time to death after discharge\n",
    "def calc_disch_to_dod(disch, dod):\n",
    "    disch_date = datetime.strptime(disch, \"%Y-%m-%d %H:%M:%S\")\n",
    "    death_date = datetime.strptime(dod, \"%Y-%m-%d %H:%M:%S\")\n",
    "    return (death_date - disch_date).days\n",
    "\n",
    "plot_df = pd.merge(\n",
    "    patients[[\"subject_id\", \"dod\", \"age\"]].query(\"age < 120\"),\n",
    "    latest_disch,\n",
    "    on=\"subject_id\",\n",
    "    how=\"inner\"\n",
    ")\n",
    "\n",
    "plot_df[\"disch_to_dod\"] = plot_df.apply(\n",
    "    lambda row: calc_disch_to_dod(row[\"dischtime\"], row[\"dod\"]), \n",
    "    axis=1\n",
    ")"
   ]
  },
  {
   "cell_type": "code",
   "execution_count": null,
   "id": "84c3be40",
   "metadata": {},
   "outputs": [],
   "source": [
    "# Add avg length of stay from admissions data\n",
    "avg_length_of_stay = admissions.groupby(\"subject_id\")[\"length_of_stay\"].mean().reset_index()\n",
    "plot_df = plot_df.merge(avg_length_of_stay, on=\"subject_id\", how=\"inner\")\n",
    "\n",
    "sns.lmplot(x=\"length_of_stay\", y=\"disch_to_dod\", data=plot_df, ci=None)\n",
    "plt.show()"
   ]
  },
  {
   "cell_type": "markdown",
   "id": "b5ea75fa",
   "metadata": {},
   "source": [
    "# 4) Distribution of Heart Rate"
   ]
  },
  {
   "cell_type": "code",
   "execution_count": null,
   "id": "1c35cace",
   "metadata": {},
   "outputs": [],
   "source": [
    "# Load chart events data\n",
    "chart_events = pd.read_csv(f\"{FOLDER}/CHARTEVENTS.csv\", low_memory=False)"
   ]
  },
  {
   "cell_type": "code",
   "execution_count": null,
   "id": "3e86caca",
   "metadata": {},
   "outputs": [],
   "source": [
    "# Load items lookup table\n",
    "items_lookup = pd.read_csv(f\"{FOLDER}/D_ITEMS.csv\", low_memory=False)"
   ]
  },
  {
   "cell_type": "code",
   "execution_count": null,
   "id": "8e1a05ca",
   "metadata": {},
   "outputs": [],
   "source": [
    "# Get relevant item IDs for heart rate\n",
    "# NOTE: one for carevue, one for metavision\n",
    "heartrate_ids = items_lookup.query(\"label == 'Heart Rate'\")[\"itemid\"].tolist()"
   ]
  },
  {
   "cell_type": "code",
   "execution_count": null,
   "id": "3e2302cc",
   "metadata": {},
   "outputs": [],
   "source": [
    "# Get heart rate measurements only\n",
    "heartrates = chart_events[chart_events[\"itemid\"].isin(heartrate_ids)]"
   ]
  },
  {
   "cell_type": "code",
   "execution_count": null,
   "id": "fa486ff2",
   "metadata": {},
   "outputs": [],
   "source": [
    "# Looks like 2 patients don't have heart rate measurements\n",
    "heartrates[\"subject_id\"].nunique()"
   ]
  },
  {
   "cell_type": "code",
   "execution_count": null,
   "id": "b3297fc2",
   "metadata": {},
   "outputs": [],
   "source": [
    "# Drop null or 0 heart rates\n",
    "# (0 heart rate might be valid for patients that died in hospital, but it will\n",
    "#  skew the averages)\n",
    "heartrates = heartrates[(~heartrates[\"valuenum\"].isna()) & (heartrates[\"valuenum\"] > 0)]"
   ]
  },
  {
   "cell_type": "code",
   "execution_count": null,
   "id": "a0a884b3",
   "metadata": {},
   "outputs": [],
   "source": [
    "# Get average heart rate per patient\n",
    "# NOTE: grouping across admissions for patients with multiple admissions\n",
    "avg_heartrate = heartrates.groupby(\"subject_id\")[\"valuenum\"].mean().reset_index()"
   ]
  },
  {
   "cell_type": "code",
   "execution_count": null,
   "id": "8badc410",
   "metadata": {},
   "outputs": [],
   "source": [
    "# Plot histogram by marital status\n",
    "\n",
    "# Get marital status from admissions data\n",
    "marital_status = admissions[[\"subject_id\", \"marital_status\"]].drop_duplicates()\n",
    "\n",
    "# CLean up marital status by creating \"other\" category\n",
    "marital_status.loc[~marital_status[\"marital_status\"].isin([\"SINGLE\", \"DIVORCED\", \"MARRIED\", \"WIDOWED\"]), \"marital_status\"] = \"OTHER\"\n",
    "\n",
    "# Get marital status and average heartrate in same df\n",
    "plot_df = pd.merge(marital_status, avg_heartrate, on=\"subject_id\", how=\"inner\")\n",
    "\n",
    "# Set column names\n",
    "plot_df.columns = [\"subject_id\", \"marital_status\", \"bpm\"]\n",
    "\n",
    "g = sns.FacetGrid(plot_df, col='marital_status')\n",
    "g.map(plt.hist, \"bpm\")\n",
    "g.add_legend()\n",
    "plt.show()"
   ]
  },
  {
   "cell_type": "code",
   "execution_count": null,
   "id": "c1318a53",
   "metadata": {},
   "outputs": [],
   "source": [
    "# Get average of averages within each group\n",
    "plot_df.groupby(\"marital_status\")[\"bpm\"].mean().sort_values().reset_index()"
   ]
  },
  {
   "cell_type": "markdown",
   "id": "b9ea69c7",
   "metadata": {},
   "source": [
    "# 5) Show all chart events for single patient"
   ]
  },
  {
   "cell_type": "code",
   "execution_count": null,
   "id": "c1813b88",
   "metadata": {},
   "outputs": [],
   "source": [
    "# Pick patient ID\n",
    "patient_of_interest = patients[\"subject_id\"][0]"
   ]
  },
  {
   "cell_type": "code",
   "execution_count": null,
   "id": "9bfe96fb",
   "metadata": {},
   "outputs": [],
   "source": [
    "# Get all chart events for this patient\n",
    "single_patient_chart_events = chart_events.query(f\"subject_id == {patient_of_interest}\")"
   ]
  },
  {
   "cell_type": "code",
   "execution_count": null,
   "id": "9e521c12",
   "metadata": {},
   "outputs": [],
   "source": [
    "# Join to get labels for events\n",
    "single_patient_chart_events = single_patient_chart_events.merge(\n",
    "    items_lookup[[\"itemid\", \"label\"]],\n",
    "    on=\"itemid\",\n",
    "    how=\"inner\"\n",
    ")"
   ]
  },
  {
   "cell_type": "code",
   "execution_count": null,
   "id": "5ef0dc36",
   "metadata": {},
   "outputs": [],
   "source": [
    "# Filter to events that have a numeric value\n",
    "single_patient_chart_events = single_patient_chart_events[~single_patient_chart_events[\"valuenum\"].isna()]"
   ]
  },
  {
   "cell_type": "code",
   "execution_count": null,
   "id": "00d6068b",
   "metadata": {},
   "outputs": [],
   "source": [
    "# Get events that occurred more than 5 times\n",
    "# and filter to those events\n",
    "temp_freq = single_patient_chart_events[\"label\"].value_counts()\n",
    "frequent_events = temp_freq[temp_freq >= 5].index.tolist()\n",
    "single_patient_chart_events = single_patient_chart_events[single_patient_chart_events[\"label\"].isin(frequent_events)]"
   ]
  },
  {
   "cell_type": "code",
   "execution_count": null,
   "id": "0822a7a2",
   "metadata": {},
   "outputs": [],
   "source": [
    "# Get events that have some variation (for more interesting plots)\n",
    "single_patient_chart_events = single_patient_chart_events.groupby(\"label\").filter(lambda x: x[\"valuenum\"].mean() != x[\"valuenum\"].max())"
   ]
  },
  {
   "cell_type": "code",
   "execution_count": null,
   "id": "f597156b",
   "metadata": {},
   "outputs": [],
   "source": [
    "# Don't need temperature in both Celsius and Fahrenheit\n",
    "single_patient_chart_events = single_patient_chart_events.query(\"label != 'Temperature C (calc)'\")"
   ]
  },
  {
   "cell_type": "code",
   "execution_count": null,
   "id": "27276d88",
   "metadata": {},
   "outputs": [],
   "source": [
    "# Plot all chart events over time\n",
    "\n",
    "plot_df = single_patient_chart_events[[\"label\", \"valuenum\"]].copy()\n",
    "\n",
    "# Convert to datetime\n",
    "plot_df[\"charttime\"] = pd.to_datetime(single_patient_chart_events['charttime'])\n",
    "\n",
    "g = sns.FacetGrid(single_patient_chart_events, col='label', col_wrap=5, sharex=True)\n",
    "g.map(plt.plot, \"charttime\", \"valuenum\")\n",
    "g.map(plt.xticks, rotation=90)\n",
    "g.add_legend()\n",
    "plt.show()"
   ]
  },
  {
   "cell_type": "markdown",
   "id": "4b5152d7",
   "metadata": {},
   "source": [
    "# BONUS: analyze patient with 15 different admissions"
   ]
  },
  {
   "cell_type": "code",
   "execution_count": null,
   "id": "02c00afa",
   "metadata": {},
   "outputs": [],
   "source": [
    "# Get patient ID\n",
    "bad_luck_patient = admissions.groupby('subject_id').size().sort_values(ascending=False).index[0]"
   ]
  },
  {
   "cell_type": "code",
   "execution_count": null,
   "id": "fdeffc68",
   "metadata": {},
   "outputs": [],
   "source": [
    "# Patient didn't die in hospital (so maybe luck wasn't the worst?)\n",
    "patients.query(f\"subject_id == {bad_luck_patient}\")[\"dod_hosp\"]"
   ]
  },
  {
   "cell_type": "code",
   "execution_count": null,
   "id": "7efac937",
   "metadata": {},
   "outputs": [],
   "source": [
    "# Get admissions for this patient\n",
    "admissions_filter = admissions.query(f\"subject_id == {bad_luck_patient}\")"
   ]
  },
  {
   "cell_type": "code",
   "execution_count": null,
   "id": "b6f7d8e0",
   "metadata": {},
   "outputs": [],
   "source": [
    "# Get primary diagnosis for each admission\n",
    "plot_df = pd.merge(admissions_filter, diagnoses_seq1, on=[\"subject_id\", \"hadm_id\"], how=\"left\")\n",
    "\n",
    "# Convert admit time to datetime and extract day\n",
    "plot_df[\"admit_date\"] = pd.to_datetime(plot_df[\"admittime\"]).dt.date\n",
    "\n",
    "# Plot different types of admissions over time\n",
    "plt.scatter(plot_df[\"admit_date\"], plot_df[\"icd9_desc\"])\n",
    "plt.xticks(rotation=45)\n",
    "plt.show()"
   ]
  }
 ],
 "metadata": {
  "kernelspec": {
   "display_name": "Python 3 (ipykernel)",
   "language": "python",
   "name": "python3"
  },
  "language_info": {
   "codemirror_mode": {
    "name": "ipython",
    "version": 3
   },
   "file_extension": ".py",
   "mimetype": "text/x-python",
   "name": "python",
   "nbconvert_exporter": "python",
   "pygments_lexer": "ipython3",
   "version": "3.9.12"
  }
 },
 "nbformat": 4,
 "nbformat_minor": 5
}
