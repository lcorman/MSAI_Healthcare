{
 "cells": [
  {
   "cell_type": "code",
   "execution_count": null,
   "id": "cf03845a-abe4-4359-9638-5729c228722c",
   "metadata": {},
   "outputs": [],
   "source": [
    "import numpy as np\n",
    "import pandas as pd\n",
    "import openai"
   ]
  },
  {
   "cell_type": "code",
   "execution_count": null,
   "id": "a387a06e-7493-4f57-bf3a-9f37995a1a67",
   "metadata": {},
   "outputs": [],
   "source": [
    "# (helps with displaying dataframes containing long strings)\n",
    "pd.set_option('display.max_colwidth', 0)"
   ]
  },
  {
   "cell_type": "code",
   "execution_count": null,
   "id": "6bf14c9d-f84b-4877-82dc-1cb1fae12531",
   "metadata": {},
   "outputs": [],
   "source": [
    "# Read in ICD9 lookup table\n",
    "icd9_lookup = pd.read_csv(\"D_ICD_DIAGNOSES.csv.gz\")"
   ]
  },
  {
   "cell_type": "code",
   "execution_count": null,
   "id": "6102b867-ea9e-4321-b4da-603fd9f69c45",
   "metadata": {},
   "outputs": [],
   "source": [
    "# Filter out ICD9 codes that start with E or V\n",
    "# (these provide supplementary info)\n",
    "suppl_mask = icd9_lookup[\"ICD9_CODE\"].apply(lambda x: x[0] in [\"E\", \"V\"])\n",
    "icd9_lookup = icd9_lookup[~suppl_mask]"
   ]
  },
  {
   "cell_type": "code",
   "execution_count": null,
   "id": "6d1e08c1-f867-4ece-9086-e83723da9c1b",
   "metadata": {},
   "outputs": [],
   "source": [
    "# Also filter out codes starting with 78 or 79\n",
    "# (these also aren't associated with a particular disease)\n",
    "nonspecific_mask = icd9_lookup[\"ICD9_CODE\"].apply(lambda x: x[0:2] in [\"78\", \"79\"])\n",
    "icd9_lookup = icd9_lookup[~nonspecific_mask]"
   ]
  },
  {
   "cell_type": "code",
   "execution_count": null,
   "id": "d4ee3ebf-2260-4c61-80b0-8ebc1b55eec9",
   "metadata": {},
   "outputs": [],
   "source": [
    "# Get first three digits of code\n",
    "icd9_lookup[\"first_3_digits\"] = icd9_lookup[\"ICD9_CODE\"].apply(lambda x: x[0:3])"
   ]
  },
  {
   "cell_type": "code",
   "execution_count": null,
   "id": "87a0a3e0-4076-4783-96ba-c2c037475f0f",
   "metadata": {},
   "outputs": [],
   "source": [
    "# Get unique values to look up\n",
    "lookup_vals = icd9_lookup[\"first_3_digits\"].unique()"
   ]
  },
  {
   "cell_type": "code",
   "execution_count": null,
   "id": "91c93612-bab3-4017-a21d-202c1a255f50",
   "metadata": {},
   "outputs": [],
   "source": [
    "openai.api_key = input()"
   ]
  },
  {
   "cell_type": "code",
   "execution_count": null,
   "id": "4f8b38a0-7405-4030-8e82-9bc15d39c692",
   "metadata": {},
   "outputs": [],
   "source": [
    "# Loop through lookup values (i.e., first 3 digits of ICD9 code)\n",
    "# and use ChatGPT to get list of symptoms for each\n",
    "symptoms = []\n",
    "for i in range(0, len(lookup_vals)):\n",
    "    if (i % 100 == 0):\n",
    "        print(f\"On code {i} of {len(lookup_vals)}\")\n",
    "    \n",
    "    temp_first_3 = lookup_vals[i]\n",
    "    temp_prompt = f\"\"\"\n",
    "        Please return a list of 5-10 symptoms associated with an ICD-9 code whose first three digits are {temp_first_3}.\n",
    "        These should be symptoms expected to appear in clinical notes for a patient with that diagnosis.\n",
    "        Please return in the format: \"Symptoms: <comma-separated list of symptoms>\"\n",
    "    \"\"\"\n",
    "    response = openai.ChatCompletion.create(\n",
    "        model=\"gpt-4o-mini\",\n",
    "        messages=[\n",
    "            {\"role\": \"user\", \"content\": temp_prompt},\n",
    "        ]\n",
    "    )\n",
    "    \n",
    "    # Append to list\n",
    "    symptoms.append(response.choices[0].message[\"content\"])"
   ]
  },
  {
   "cell_type": "code",
   "execution_count": null,
   "id": "3526b024-7e8b-4e4b-83ea-ed2b46eebc94",
   "metadata": {},
   "outputs": [],
   "source": [
    "# Create and save dataframe\n",
    "# NOTE: symptoms are stored as a single string for now\n",
    "output_df = pd.DataFrame({\n",
    "    \"icd9_first_3\": lookup_vals,\n",
    "    \"symptoms\": symptoms\n",
    "})\n",
    "output_df.to_csv(\"icd9_symptom_map_v2.csv\", index=False)"
   ]
  }
 ],
 "metadata": {
  "kernelspec": {
   "display_name": "Python 3 (ipykernel)",
   "language": "python",
   "name": "python3"
  },
  "language_info": {
   "codemirror_mode": {
    "name": "ipython",
    "version": 3
   },
   "file_extension": ".py",
   "mimetype": "text/x-python",
   "name": "python",
   "nbconvert_exporter": "python",
   "pygments_lexer": "ipython3",
   "version": "3.10.15"
  }
 },
 "nbformat": 4,
 "nbformat_minor": 5
}
